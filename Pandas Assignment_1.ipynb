{
  "nbformat": 4,
  "nbformat_minor": 0,
  "metadata": {
    "colab": {
      "provenance": []
    },
    "kernelspec": {
      "name": "python3",
      "display_name": "Python 3"
    },
    "language_info": {
      "name": "python"
    }
  },
  "cells": [
    {
      "cell_type": "code",
      "execution_count": 1,
      "metadata": {
        "colab": {
          "base_uri": "https://localhost:8080/",
          "height": 558
        },
        "id": "fH34nhcWGbpM",
        "outputId": "fc95eadf-086c-4647-832a-cae4628b39a4"
      },
      "outputs": [
        {
          "output_type": "stream",
          "name": "stdout",
          "text": [
            "0    100\n",
            "1    200\n",
            "2    300\n",
            "3    400\n",
            "dtype: int64 <class 'pandas.core.series.Series'>\n",
            "300\n",
            "RangeIndex(start=0, stop=4, step=1)\n",
            "400\n",
            "a    200\n",
            "b    300\n",
            "c    100\n",
            "d    400\n",
            "dtype: int64\n"
          ]
        },
        {
          "output_type": "error",
          "ename": "AttributeError",
          "evalue": "'Series' object has no attribute 'append'",
          "traceback": [
            "\u001b[0;31m---------------------------------------------------------------------------\u001b[0m",
            "\u001b[0;31mAttributeError\u001b[0m                            Traceback (most recent call last)",
            "\u001b[0;32m<ipython-input-1-1e5a95a57cda>\u001b[0m in \u001b[0;36m<cell line: 0>\u001b[0;34m()\u001b[0m\n\u001b[1;32m     11\u001b[0m \u001b[0;34m\u001b[0m\u001b[0m\n\u001b[1;32m     12\u001b[0m \u001b[0mb\u001b[0m \u001b[0;34m=\u001b[0m \u001b[0mpd\u001b[0m\u001b[0;34m.\u001b[0m\u001b[0mSeries\u001b[0m\u001b[0;34m(\u001b[0m\u001b[0;34m[\u001b[0m\u001b[0;36m800\u001b[0m\u001b[0;34m,\u001b[0m \u001b[0;36m450\u001b[0m\u001b[0;34m,\u001b[0m \u001b[0;36m100\u001b[0m\u001b[0;34m]\u001b[0m\u001b[0;34m,\u001b[0m \u001b[0mindex\u001b[0m\u001b[0;34m=\u001b[0m\u001b[0;34m[\u001b[0m\u001b[0;34m'e'\u001b[0m\u001b[0;34m,\u001b[0m \u001b[0;34m'f'\u001b[0m\u001b[0;34m,\u001b[0m \u001b[0;34m'g'\u001b[0m\u001b[0;34m]\u001b[0m\u001b[0;34m)\u001b[0m\u001b[0;34m\u001b[0m\u001b[0;34m\u001b[0m\u001b[0m\n\u001b[0;32m---> 13\u001b[0;31m \u001b[0ma\u001b[0m \u001b[0;34m=\u001b[0m \u001b[0ma\u001b[0m\u001b[0;34m.\u001b[0m\u001b[0mappend\u001b[0m\u001b[0;34m(\u001b[0m\u001b[0mb\u001b[0m\u001b[0;34m)\u001b[0m\u001b[0;34m\u001b[0m\u001b[0;34m\u001b[0m\u001b[0m\n\u001b[0m\u001b[1;32m     14\u001b[0m \u001b[0mprint\u001b[0m\u001b[0;34m(\u001b[0m\u001b[0ma\u001b[0m\u001b[0;34m)\u001b[0m\u001b[0;34m\u001b[0m\u001b[0;34m\u001b[0m\u001b[0m\n\u001b[1;32m     15\u001b[0m \u001b[0mprint\u001b[0m\u001b[0;34m(\u001b[0m\u001b[0ma\u001b[0m\u001b[0;34m.\u001b[0m\u001b[0msort_values\u001b[0m\u001b[0;34m(\u001b[0m\u001b[0mascending\u001b[0m\u001b[0;34m=\u001b[0m\u001b[0;32mFalse\u001b[0m\u001b[0;34m)\u001b[0m\u001b[0;34m.\u001b[0m\u001b[0mindex\u001b[0m\u001b[0;34m)\u001b[0m\u001b[0;34m\u001b[0m\u001b[0;34m\u001b[0m\u001b[0m\n",
            "\u001b[0;32m/usr/local/lib/python3.11/dist-packages/pandas/core/generic.py\u001b[0m in \u001b[0;36m__getattr__\u001b[0;34m(self, name)\u001b[0m\n\u001b[1;32m   6297\u001b[0m         ):\n\u001b[1;32m   6298\u001b[0m             \u001b[0;32mreturn\u001b[0m \u001b[0mself\u001b[0m\u001b[0;34m[\u001b[0m\u001b[0mname\u001b[0m\u001b[0;34m]\u001b[0m\u001b[0;34m\u001b[0m\u001b[0;34m\u001b[0m\u001b[0m\n\u001b[0;32m-> 6299\u001b[0;31m         \u001b[0;32mreturn\u001b[0m \u001b[0mobject\u001b[0m\u001b[0;34m.\u001b[0m\u001b[0m__getattribute__\u001b[0m\u001b[0;34m(\u001b[0m\u001b[0mself\u001b[0m\u001b[0;34m,\u001b[0m \u001b[0mname\u001b[0m\u001b[0;34m)\u001b[0m\u001b[0;34m\u001b[0m\u001b[0;34m\u001b[0m\u001b[0m\n\u001b[0m\u001b[1;32m   6300\u001b[0m \u001b[0;34m\u001b[0m\u001b[0m\n\u001b[1;32m   6301\u001b[0m     \u001b[0;34m@\u001b[0m\u001b[0mfinal\u001b[0m\u001b[0;34m\u001b[0m\u001b[0;34m\u001b[0m\u001b[0m\n",
            "\u001b[0;31mAttributeError\u001b[0m: 'Series' object has no attribute 'append'"
          ]
        }
      ],
      "source": [
        "import pandas as pd\n",
        "import numpy as np\n",
        "\n",
        "a = pd.Series([100, 200, 300, 400])\n",
        "print(a, type(a))\n",
        "print(a[2])\n",
        "print(a.index)\n",
        "a.index = ['c', 'a', 'b', 'd']\n",
        "print(a['d'])\n",
        "print(a.sort_index())\n",
        "\n",
        "b = pd.Series([800, 450, 100], index=['e', 'f', 'g'])\n",
        "a = a.append(b)\n",
        "print(a)\n",
        "print(a.sort_values(ascending=False).index)\n",
        "\n",
        "df = pd.DataFrame(a, columns=['Values'])\n",
        "print(df)\n",
        "print(df.shape)\n",
        "print(df.index)\n",
        "print(df.head(), df.tail())\n",
        "df.columns = ['points']\n",
        "\n",
        "fruits = pd.Series(np.random.choice(['orange', 'mango', 'apple'], 7), index=df.index)\n",
        "df['fruits'] = fruits\n",
        "print(df.head())\n",
        "\n",
        "d1 = pd.DataFrame({'city': ['Chandigarh', 'Delhi', 'Kanpur', 'Chennai', 'Manali'], 'Temperature': [15, 22, 20, 26, -2]})\n",
        "print(d1)\n",
        "print(d1.shape)\n",
        "city = d1['city']\n",
        "print(city, type(city))\n",
        "\n",
        "d2 = pd.DataFrame({'city': ['Bengalaru', 'Coimbatore', 'Srirangam', 'Pondicherry'], 'Temperature': [24, 35, 36, 39]})\n",
        "print(d2.shape)\n",
        "d3 = pd.concat([d1, d2], ignore_index=True)\n",
        "print(d3[d3['Temperature'] <= 20])\n",
        "print(d3[d3['Temperature'] >= 35])\n",
        "\n",
        "def is_ut(x):\n",
        "    return x in ['Chandigarh', 'Pondicherry', 'Delhi']\n",
        "d3['is_ut'] = d3['city'].apply(is_ut)\n",
        "print(d3)\n",
        "\n",
        "def c_to_f(c):\n",
        "    return (c * 9/5) + 32\n",
        "d3['temp_fahrenheit'] = d3['Temperature'].apply(c_to_f)\n",
        "print(d3)\n",
        "\n",
        "print(d3[d3['is_ut']])\n",
        "print(d3[d3['temp_fahrenheit'] > 90])\n",
        "print(d3.iloc[:3])\n",
        "print(d3.iloc[:, -2:])\n",
        "\n",
        "data = pd.DataFrame({'Category': ['A', 'B', 'A', 'B', 'C'], 'Values': [10, 20, 30, 40, 50]})\n",
        "print(data.groupby('Category').sum())\n",
        "print(data.groupby('Category').count())\n",
        "print(data.groupby('Category').agg(['min', 'max']))\n",
        "print(data.groupby(['Category', 'Values']).mean())\n",
        "print(data.groupby(['Category', 'Values']).agg(['min', 'max']))\n",
        "\n",
        "a = pd.date_range(start='2020-01-01', end='2021-04-01')\n",
        "print(a)\n",
        "print(len(a))\n",
        "print(type(a))\n"
      ]
    }
  ]
}